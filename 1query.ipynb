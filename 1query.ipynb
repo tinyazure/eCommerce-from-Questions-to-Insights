{
  "nbformat": 4,
  "nbformat_minor": 0,
  "metadata": {
    "colab": {
      "provenance": [],
      "authorship_tag": "ABX9TyOPGeBJV5hkxORBJXKFK2yO",
      "include_colab_link": true
    },
    "kernelspec": {
      "name": "python3",
      "display_name": "Python 3"
    },
    "language_info": {
      "name": "python"
    }
  },
  "cells": [
    {
      "cell_type": "markdown",
      "metadata": {
        "id": "view-in-github",
        "colab_type": "text"
      },
      "source": [
        "<a href=\"https://colab.research.google.com/github/tinyazure/eCommerce-from-Questions-to-Insights/blob/main/1query.ipynb\" target=\"_parent\"><img src=\"https://colab.research.google.com/assets/colab-badge.svg\" alt=\"Open In Colab\"/></a>"
      ]
    },
    {
      "cell_type": "code",
      "execution_count": null,
      "metadata": {
        "id": "rdGDmARZW-wh"
      },
      "outputs": [],
      "source": [
        "from google.colab import auth\n",
        "auth.authenticate_user()\n",
        "print('Authenticated')"
      ]
    },
    {
      "cell_type": "code",
      "source": [
        "project_id = 'bigquerycourse-464720'"
      ],
      "metadata": {
        "id": "3cQLuMGWXCuR"
      },
      "execution_count": null,
      "outputs": []
    },
    {
      "cell_type": "code",
      "source": [
        "%load_ext google.colab.data_table"
      ],
      "metadata": {
        "id": "ZOSopemaXE7X"
      },
      "execution_count": null,
      "outputs": []
    },
    {
      "cell_type": "code",
      "source": [
        "#bigquery-public-data.thelook_ecommerce#\n",
        "'''bigquery-public-data.thelook_ecommerce.distribution_centers\n",
        "bigquery-public-data.thelook_ecommerce.events\n",
        "bigquery-public-data.thelook_ecommerce.inventory_items\n",
        "bigquery-public-data.thelook_ecommerce.order_items\n",
        "bigquery-public-data.thelook_ecommerce.orders\n",
        "bigquery-public-data.thelook_ecommerce.products\n",
        "bigquery-public-data.thelook_ecommerce.users'''"
      ],
      "metadata": {
        "id": "_lk26V0xXL-Y"
      },
      "execution_count": null,
      "outputs": []
    },
    {
      "cell_type": "markdown",
      "source": [
        "Find the dataset “thelook_ecommerce” in BigQuery public data.  \n",
        "Bring the users who did not make any purchases in December 2022."
      ],
      "metadata": {
        "id": "4Nj27hVlkypr"
      }
    },
    {
      "cell_type": "code",
      "source": [
        "%%bigquery --project bigquerycourse-464720\n",
        "SELECT\n",
        "U.id AS User_ID,\n",
        "O.order_id AS Order_ID,\n",
        "date(O.created_at) AS date,\n",
        "FROM\n",
        "bigquery-public-data.thelook_ecommerce.users U\n",
        "LEFT JOIN\n",
        "bigquery-public-data.thelook_ecommerce.orders O\n",
        "ON\n",
        "U.id = O.user_id and date(o.created_at) between \"2022-12-01\" and \"2022-12-31\"\n",
        "where\n",
        "o.user_id IS NULL\n",
        "order by\n",
        "Order_ID DESC"
      ],
      "metadata": {
        "id": "nfbYLNnlkaax"
      },
      "execution_count": null,
      "outputs": []
    },
    {
      "cell_type": "code",
      "source": [],
      "metadata": {
        "id": "DbzU_8mqkjws"
      },
      "execution_count": null,
      "outputs": []
    }
  ]
}
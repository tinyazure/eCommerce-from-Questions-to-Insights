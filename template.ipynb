{
  "nbformat": 4,
  "nbformat_minor": 0,
  "metadata": {
    "colab": {
      "provenance": [],
      "authorship_tag": "ABX9TyMpBUKH1bMRkbD2/jd4deku",
      "include_colab_link": true
    },
    "kernelspec": {
      "name": "python3",
      "display_name": "Python 3"
    },
    "language_info": {
      "name": "python"
    }
  },
  "cells": [
    {
      "cell_type": "markdown",
      "metadata": {
        "id": "view-in-github",
        "colab_type": "text"
      },
      "source": [
        "<a href=\"https://colab.research.google.com/github/tinyazure/eCommerce-from-Questions-to-Insights/blob/main/template.ipynb\" target=\"_parent\"><img src=\"https://colab.research.google.com/assets/colab-badge.svg\" alt=\"Open In Colab\"/></a>"
      ]
    },
    {
      "cell_type": "code",
      "execution_count": null,
      "metadata": {
        "id": "rdGDmARZW-wh"
      },
      "outputs": [],
      "source": [
        "from google.colab import auth\n",
        "auth.authenticate_user()\n",
        "print('Authenticated')"
      ]
    },
    {
      "cell_type": "code",
      "source": [
        "project_id = 'bigquerycourse-464720'"
      ],
      "metadata": {
        "id": "3cQLuMGWXCuR"
      },
      "execution_count": null,
      "outputs": []
    },
    {
      "cell_type": "code",
      "source": [
        "%load_ext google.colab.data_table"
      ],
      "metadata": {
        "id": "ZOSopemaXE7X"
      },
      "execution_count": null,
      "outputs": []
    },
    {
      "cell_type": "code",
      "source": [
        "#bigquery-public-data.thelook_ecommerce#\n",
        "'''bigquery-public-data.thelook_ecommerce.distribution_centers\n",
        "bigquery-public-data.thelook_ecommerce.events\n",
        "bigquery-public-data.thelook_ecommerce.inventory_items\n",
        "bigquery-public-data.thelook_ecommerce.order_items\n",
        "bigquery-public-data.thelook_ecommerce.orders\n",
        "bigquery-public-data.thelook_ecommerce.products\n",
        "bigquery-public-data.thelook_ecommerce.users'''\n"
      ],
      "metadata": {
        "id": "_lk26V0xXL-Y"
      },
      "execution_count": null,
      "outputs": []
    }
  ]
}